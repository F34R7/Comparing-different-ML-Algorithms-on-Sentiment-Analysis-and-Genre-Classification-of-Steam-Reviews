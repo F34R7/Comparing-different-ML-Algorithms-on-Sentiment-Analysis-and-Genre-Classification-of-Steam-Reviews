{
 "cells": [
  {
   "cell_type": "markdown",
   "id": "1e56a325-7554-4e1a-bf3a-4b253e63a406",
   "metadata": {},
   "source": [
    "### Cleaning the dataset"
   ]
  },
  {
   "cell_type": "markdown",
   "id": "b230f1b3-0c23-41cf-bf3d-4ac04598a09c",
   "metadata": {},
   "source": [
    "1. Importing the necessary libraries\n",
    "2. Creating a pandas dataframe and getting an overview of the data\n",
    "3. Analyze amount of negative and positive review, as well as drop any rows with NAs and invalid values\n",
    "4. Removing special characters from the Reviews\n",
    "5. Optional(Autocorrecting words to reduce the amount of lost information due to spelling errors)\n",
    "6. Removing stopwords, as well as non english words to further improve performance of the ML algorithms\n",
    "7. Lemmatizing words to further enhance performance\n",
    "8. Save the cleaned dataset to a csv file"
   ]
  },
  {
   "cell_type": "code",
   "execution_count": 11,
   "id": "57093ef9",
   "metadata": {},
   "outputs": [
    {
     "name": "stdout",
     "output_type": "stream",
     "text": [
      "Requirement already satisfied: pandas in /usr/local/lib/python3.8/dist-packages (2.0.3)\n",
      "Requirement already satisfied: numpy>=1.20.3 in /usr/local/lib/python3.8/dist-packages (from pandas) (1.24.2)\n",
      "Requirement already satisfied: tzdata>=2022.1 in /usr/local/lib/python3.8/dist-packages (from pandas) (2024.1)\n",
      "Requirement already satisfied: python-dateutil>=2.8.2 in /usr/local/lib/python3.8/dist-packages (from pandas) (2.8.2)\n",
      "Requirement already satisfied: pytz>=2020.1 in /usr/local/lib/python3.8/dist-packages (from pandas) (2024.1)\n",
      "Requirement already satisfied: six>=1.5 in /usr/lib/python3/dist-packages (from python-dateutil>=2.8.2->pandas) (1.14.0)\n",
      "\u001b[33mWARNING: Running pip as the 'root' user can result in broken permissions and conflicting behaviour with the system package manager. It is recommended to use a virtual environment instead: https://pip.pypa.io/warnings/venv\u001b[0m\u001b[33m\n",
      "\u001b[0m\n",
      "\u001b[1m[\u001b[0m\u001b[34;49mnotice\u001b[0m\u001b[1;39;49m]\u001b[0m\u001b[39;49m A new release of pip is available: \u001b[0m\u001b[31;49m23.0.1\u001b[0m\u001b[39;49m -> \u001b[0m\u001b[32;49m24.0\u001b[0m\n",
      "\u001b[1m[\u001b[0m\u001b[34;49mnotice\u001b[0m\u001b[1;39;49m]\u001b[0m\u001b[39;49m To update, run: \u001b[0m\u001b[32;49mpython3 -m pip install --upgrade pip\u001b[0m\n",
      "Requirement already satisfied: nltk in /usr/local/lib/python3.8/dist-packages (3.8.1)\n",
      "Requirement already satisfied: click in /usr/local/lib/python3.8/dist-packages (from nltk) (8.1.7)\n",
      "Requirement already satisfied: regex>=2021.8.3 in /usr/local/lib/python3.8/dist-packages (from nltk) (2024.4.28)\n",
      "Requirement already satisfied: joblib in /usr/local/lib/python3.8/dist-packages (from nltk) (1.4.2)\n",
      "Requirement already satisfied: tqdm in /usr/local/lib/python3.8/dist-packages (from nltk) (4.66.4)\n",
      "\u001b[33mWARNING: Running pip as the 'root' user can result in broken permissions and conflicting behaviour with the system package manager. It is recommended to use a virtual environment instead: https://pip.pypa.io/warnings/venv\u001b[0m\u001b[33m\n",
      "\u001b[0m\n",
      "\u001b[1m[\u001b[0m\u001b[34;49mnotice\u001b[0m\u001b[1;39;49m]\u001b[0m\u001b[39;49m A new release of pip is available: \u001b[0m\u001b[31;49m23.0.1\u001b[0m\u001b[39;49m -> \u001b[0m\u001b[32;49m24.0\u001b[0m\n",
      "\u001b[1m[\u001b[0m\u001b[34;49mnotice\u001b[0m\u001b[1;39;49m]\u001b[0m\u001b[39;49m To update, run: \u001b[0m\u001b[32;49mpython3 -m pip install --upgrade pip\u001b[0m\n"
     ]
    }
   ],
   "source": [
    "!pip install pandas\n",
    "!pip install nltk"
   ]
  },
  {
   "cell_type": "code",
   "execution_count": 12,
   "id": "eb282c9e-2a41-48c3-9389-22b9adecc35b",
   "metadata": {
    "tags": []
   },
   "outputs": [
    {
     "name": "stderr",
     "output_type": "stream",
     "text": [
      "[nltk_data] Downloading package words to /root/nltk_data...\n",
      "[nltk_data]   Package words is already up-to-date!\n",
      "[nltk_data] Downloading package punkt to /root/nltk_data...\n",
      "[nltk_data]   Package punkt is already up-to-date!\n",
      "[nltk_data] Downloading package wordnet to /root/nltk_data...\n",
      "[nltk_data]   Package wordnet is already up-to-date!\n",
      "[nltk_data] Downloading package stopwords to /root/nltk_data...\n",
      "[nltk_data]   Package stopwords is already up-to-date!\n"
     ]
    },
    {
     "data": {
      "text/plain": [
       "True"
      ]
     },
     "execution_count": 12,
     "metadata": {},
     "output_type": "execute_result"
    }
   ],
   "source": [
    "#from autocorrect import Speller\n",
    "import pandas as pd\n",
    "import numpy as np\n",
    "import re\n",
    "import nltk\n",
    "from nltk.corpus import words\n",
    "from nltk.corpus import stopwords\n",
    "from nltk.stem import WordNetLemmatizer\n",
    "nltk.download(\"words\")\n",
    "nltk.download(\"punkt\")\n",
    "nltk.download('wordnet')\n",
    "nltk.download(\"stopwords\")"
   ]
  },
  {
   "cell_type": "code",
   "execution_count": 13,
   "id": "3d280305-7dfa-4795-9b74-474b005e371c",
   "metadata": {
    "tags": []
   },
   "outputs": [
    {
     "data": {
      "text/plain": [
       "Genre\n",
       "RPG           140305\n",
       "Coop          130000\n",
       "FPS           129998\n",
       "Strategy      113478\n",
       "Platformer    111787\n",
       "Fighter       103367\n",
       "Name: count, dtype: int64"
      ]
     },
     "execution_count": 13,
     "metadata": {},
     "output_type": "execute_result"
    }
   ],
   "source": [
    "reviews = pd.read_csv(\"Steam_Reviews\")\n",
    "# Dropping the MOBA and Genre columns. MOBA: because not enough reviews could be scraped, Genre: These are not valid review rows and thus can be safely removed\n",
    "reviews = reviews[reviews[\"Genre\"] != \"MOBA\"]\n",
    "reviews = reviews[reviews[\"Genre\"] != \"Genre\"]\n",
    "# Checking for the genre distribution\n",
    "counts = reviews[\"Genre\"].value_counts()\n",
    "counts"
   ]
  },
  {
   "cell_type": "code",
   "execution_count": 14,
   "id": "1ca29c87-2715-4934-8baa-410dc126aa2f",
   "metadata": {
    "tags": []
   },
   "outputs": [
    {
     "data": {
      "text/plain": [
       "Recommended\n",
       "True     623064\n",
       "False    104108\n",
       "Name: count, dtype: int64"
      ]
     },
     "execution_count": 14,
     "metadata": {},
     "output_type": "execute_result"
    }
   ],
   "source": [
    "# Checking how many positive and negative reviews we have got and removing missing values, as well as removing any rows where the value for recommended is literally recommended (happens when initiating a new API call for a new game)\n",
    "reviews = reviews.dropna()\n",
    "reviews = reviews[reviews[\"Recommended\"] != \"Recommended\"]\n",
    "reviews[\"Recommended\"].value_counts()"
   ]
  },
  {
   "cell_type": "code",
   "execution_count": 17,
   "id": "74aa4a90-858c-48dd-9cd2-30733815e51b",
   "metadata": {
    "tags": []
   },
   "outputs": [],
   "source": [
    "# Removing special characters\n",
    "def delete_specials(Review):\n",
    "    return re.sub(r'[^\\w\\s]','', Review) #using a regular expression (and the re package) to get rid of any character which are not a - z. A - Z and 0 - 9, as well as white spaces."
   ]
  },
  {
   "cell_type": "code",
   "execution_count": 21,
   "id": "ce2a53c0-dc6d-418a-9ddd-a738637555ff",
   "metadata": {
    "tags": []
   },
   "outputs": [
    {
     "data": {
      "text/html": [
       "<div>\n",
       "<style scoped>\n",
       "    .dataframe tbody tr th:only-of-type {\n",
       "        vertical-align: middle;\n",
       "    }\n",
       "\n",
       "    .dataframe tbody tr th {\n",
       "        vertical-align: top;\n",
       "    }\n",
       "\n",
       "    .dataframe thead th {\n",
       "        text-align: right;\n",
       "    }\n",
       "</style>\n",
       "<table border=\"1\" class=\"dataframe\">\n",
       "  <thead>\n",
       "    <tr style=\"text-align: right;\">\n",
       "      <th></th>\n",
       "      <th>Review</th>\n",
       "      <th>Recommended</th>\n",
       "      <th>Genre</th>\n",
       "    </tr>\n",
       "  </thead>\n",
       "  <tbody>\n",
       "    <tr>\n",
       "      <th>0</th>\n",
       "      <td>spy sappin my dispensers</td>\n",
       "      <td>True</td>\n",
       "      <td>FPS</td>\n",
       "    </tr>\n",
       "    <tr>\n",
       "      <th>1</th>\n",
       "      <td>very nc better than overwatch shite game</td>\n",
       "      <td>True</td>\n",
       "      <td>FPS</td>\n",
       "    </tr>\n",
       "    <tr>\n",
       "      <th>2</th>\n",
       "      <td>it is good game</td>\n",
       "      <td>True</td>\n",
       "      <td>FPS</td>\n",
       "    </tr>\n",
       "    <tr>\n",
       "      <th>3</th>\n",
       "      <td>spy among us</td>\n",
       "      <td>True</td>\n",
       "      <td>FPS</td>\n",
       "    </tr>\n",
       "    <tr>\n",
       "      <th>4</th>\n",
       "      <td>Full of bots no updates except cosmetic crap U...</td>\n",
       "      <td>False</td>\n",
       "      <td>FPS</td>\n",
       "    </tr>\n",
       "    <tr>\n",
       "      <th>...</th>\n",
       "      <td>...</td>\n",
       "      <td>...</td>\n",
       "      <td>...</td>\n",
       "    </tr>\n",
       "    <tr>\n",
       "      <th>751844</th>\n",
       "      <td>allahı var</td>\n",
       "      <td>True</td>\n",
       "      <td>Strategy</td>\n",
       "    </tr>\n",
       "    <tr>\n",
       "      <th>751845</th>\n",
       "      <td>fun game</td>\n",
       "      <td>True</td>\n",
       "      <td>Strategy</td>\n",
       "    </tr>\n",
       "    <tr>\n",
       "      <th>751846</th>\n",
       "      <td>Its really good now with the new 160 patch Wev...</td>\n",
       "      <td>True</td>\n",
       "      <td>Strategy</td>\n",
       "    </tr>\n",
       "    <tr>\n",
       "      <th>751847</th>\n",
       "      <td>Its good its like COH2 but with new maps and b...</td>\n",
       "      <td>True</td>\n",
       "      <td>Strategy</td>\n",
       "    </tr>\n",
       "    <tr>\n",
       "      <th>751848</th>\n",
       "      <td>Balance has left the game</td>\n",
       "      <td>False</td>\n",
       "      <td>Strategy</td>\n",
       "    </tr>\n",
       "  </tbody>\n",
       "</table>\n",
       "<p>727172 rows × 3 columns</p>\n",
       "</div>"
      ],
      "text/plain": [
       "                                                   Review Recommended  \\\n",
       "0                                spy sappin my dispensers        True   \n",
       "1                very nc better than overwatch shite game        True   \n",
       "2                                         it is good game        True   \n",
       "3                                            spy among us        True   \n",
       "4       Full of bots no updates except cosmetic crap U...       False   \n",
       "...                                                   ...         ...   \n",
       "751844                                         allahı var        True   \n",
       "751845                                          fun game         True   \n",
       "751846  Its really good now with the new 160 patch Wev...        True   \n",
       "751847  Its good its like COH2 but with new maps and b...        True   \n",
       "751848                          Balance has left the game       False   \n",
       "\n",
       "           Genre  \n",
       "0            FPS  \n",
       "1            FPS  \n",
       "2            FPS  \n",
       "3            FPS  \n",
       "4            FPS  \n",
       "...          ...  \n",
       "751844  Strategy  \n",
       "751845  Strategy  \n",
       "751846  Strategy  \n",
       "751847  Strategy  \n",
       "751848  Strategy  \n",
       "\n",
       "[727172 rows x 3 columns]"
      ]
     },
     "execution_count": 21,
     "metadata": {},
     "output_type": "execute_result"
    }
   ],
   "source": [
    "reviews[\"Review\"] = reviews[\"Review\"].apply(lambda x: delete_specials(x))\n",
    "reviews"
   ]
  },
  {
   "cell_type": "markdown",
   "id": "03d6c4d0-458c-481d-9742-2a43952231f1",
   "metadata": {},
   "source": [
    "There was a lot of thinking done about if a fuzzy word matching should be included but two problems arise with this approach:\n",
    "\n",
    "- Specific words in gamer language are simply not present in the dictionary provided by these libraries, which might lead some \"important\" words to be corrected into something completly different\n",
    "- It is quite performance heavy as suggested by some of these libraries, which has also been observed when working with datasets above 100k entries. \n",
    "\n",
    "This begs the question if it is reall worth doing the autocorrect part, especially when working with really large datasets. For now, it will be excluded, since it takes too much time to be considered a worthwile investement."
   ]
  },
  {
   "cell_type": "code",
   "execution_count": 22,
   "id": "39669ad5-19ce-4aca-a949-569fe6f19299",
   "metadata": {
    "tags": []
   },
   "outputs": [],
   "source": [
    "# Correcting misspelled words\n",
    "#def autocorrector(Review):\n",
    "#    return spell(Review)"
   ]
  },
  {
   "cell_type": "code",
   "execution_count": 23,
   "id": "d3a897a8-09aa-4a79-a108-93a5e8e7d576",
   "metadata": {
    "tags": []
   },
   "outputs": [],
   "source": [
    "#spell = Speller()\n",
    "#reviews[\"Corrected_reviews\"] = reviews[\"Review\"].apply(lambda x: autocorrector(x))"
   ]
  },
  {
   "cell_type": "markdown",
   "id": "72e177e2-69dc-44f9-9504-90bc9b290672",
   "metadata": {},
   "source": [
    "Next step is to:\n",
    "\n",
    "- Remove stopwords\n",
    "- Lemmatize words\n",
    "- Filter out any non english words\n",
    "\n",
    "The code blocks below is used to do exactly that."
   ]
  },
  {
   "cell_type": "code",
   "execution_count": 26,
   "id": "617790b1",
   "metadata": {},
   "outputs": [],
   "source": [
    "english_vocabulary = set(words.words()) # we get a list of english words and use set for better performance\n",
    "stop_words = stopwords.words(\"english\") # we get a list with stopwords which we want to remove from our review\n",
    "lemmatize_words = WordNetLemmatizer()   # Function to lemmatize words"
   ]
  },
  {
   "cell_type": "code",
   "execution_count": 27,
   "id": "28427ed2-de0b-4c69-91ca-3901677a6b8a",
   "metadata": {
    "tags": []
   },
   "outputs": [],
   "source": [
    "def filter_words(Review):\n",
    "    tokens = nltk.word_tokenize(Review) # each word is going to transformed into a token, as this is necessary for the processing\n",
    "    filtered_text = [lemmatize_words.lemmatize(word.lower()) for word in tokens if word.lower() in english_vocabulary and word.lower() not in stop_words] # now we iterate over each word in the actual review and filter out any word which is not included in the nltk word set, as well as removing stop words and lemmatizing\n",
    "    return \" \".join(filtered_text) # we turn it back into a single big string"
   ]
  },
  {
   "cell_type": "code",
   "execution_count": 28,
   "id": "a84681ae-3fec-43cb-8e1f-af8be4476578",
   "metadata": {
    "tags": []
   },
   "outputs": [
    {
     "data": {
      "text/html": [
       "<div>\n",
       "<style scoped>\n",
       "    .dataframe tbody tr th:only-of-type {\n",
       "        vertical-align: middle;\n",
       "    }\n",
       "\n",
       "    .dataframe tbody tr th {\n",
       "        vertical-align: top;\n",
       "    }\n",
       "\n",
       "    .dataframe thead th {\n",
       "        text-align: right;\n",
       "    }\n",
       "</style>\n",
       "<table border=\"1\" class=\"dataframe\">\n",
       "  <thead>\n",
       "    <tr style=\"text-align: right;\">\n",
       "      <th></th>\n",
       "      <th>Review</th>\n",
       "      <th>Recommended</th>\n",
       "      <th>Genre</th>\n",
       "    </tr>\n",
       "  </thead>\n",
       "  <tbody>\n",
       "    <tr>\n",
       "      <th>0</th>\n",
       "      <td>spy</td>\n",
       "      <td>True</td>\n",
       "      <td>FPS</td>\n",
       "    </tr>\n",
       "    <tr>\n",
       "      <th>1</th>\n",
       "      <td>better overwatch game</td>\n",
       "      <td>True</td>\n",
       "      <td>FPS</td>\n",
       "    </tr>\n",
       "    <tr>\n",
       "      <th>2</th>\n",
       "      <td>good game</td>\n",
       "      <td>True</td>\n",
       "      <td>FPS</td>\n",
       "    </tr>\n",
       "    <tr>\n",
       "      <th>3</th>\n",
       "      <td>spy among u</td>\n",
       "      <td>True</td>\n",
       "      <td>FPS</td>\n",
       "    </tr>\n",
       "    <tr>\n",
       "      <th>4</th>\n",
       "      <td>full except cosmetic crap unbalanced pure garbage</td>\n",
       "      <td>False</td>\n",
       "      <td>FPS</td>\n",
       "    </tr>\n",
       "  </tbody>\n",
       "</table>\n",
       "</div>"
      ],
      "text/plain": [
       "                                              Review Recommended Genre\n",
       "0                                                spy        True   FPS\n",
       "1                              better overwatch game        True   FPS\n",
       "2                                          good game        True   FPS\n",
       "3                                        spy among u        True   FPS\n",
       "4  full except cosmetic crap unbalanced pure garbage       False   FPS"
      ]
     },
     "execution_count": 28,
     "metadata": {},
     "output_type": "execute_result"
    }
   ],
   "source": [
    "reviews[\"Review\"] = reviews[\"Review\"].apply(lambda x: filter_words(x))\n",
    "reviews.head()"
   ]
  },
  {
   "cell_type": "markdown",
   "id": "b20c842f-e50c-447f-aa9b-020a08f3c68d",
   "metadata": {},
   "source": [
    "Lastly, it is time to get rid of any empty review values and save our cleaned dataset to a csv."
   ]
  },
  {
   "cell_type": "code",
   "execution_count": 29,
   "id": "a7f48034-9ffa-4316-9023-1a74d6f99c4c",
   "metadata": {
    "tags": []
   },
   "outputs": [
    {
     "data": {
      "text/html": [
       "<div>\n",
       "<style scoped>\n",
       "    .dataframe tbody tr th:only-of-type {\n",
       "        vertical-align: middle;\n",
       "    }\n",
       "\n",
       "    .dataframe tbody tr th {\n",
       "        vertical-align: top;\n",
       "    }\n",
       "\n",
       "    .dataframe thead th {\n",
       "        text-align: right;\n",
       "    }\n",
       "</style>\n",
       "<table border=\"1\" class=\"dataframe\">\n",
       "  <thead>\n",
       "    <tr style=\"text-align: right;\">\n",
       "      <th></th>\n",
       "      <th>Review</th>\n",
       "      <th>Recommended</th>\n",
       "      <th>Genre</th>\n",
       "    </tr>\n",
       "  </thead>\n",
       "  <tbody>\n",
       "    <tr>\n",
       "      <th>0</th>\n",
       "      <td>spy</td>\n",
       "      <td>True</td>\n",
       "      <td>FPS</td>\n",
       "    </tr>\n",
       "    <tr>\n",
       "      <th>1</th>\n",
       "      <td>better overwatch game</td>\n",
       "      <td>True</td>\n",
       "      <td>FPS</td>\n",
       "    </tr>\n",
       "    <tr>\n",
       "      <th>2</th>\n",
       "      <td>good game</td>\n",
       "      <td>True</td>\n",
       "      <td>FPS</td>\n",
       "    </tr>\n",
       "    <tr>\n",
       "      <th>3</th>\n",
       "      <td>spy among u</td>\n",
       "      <td>True</td>\n",
       "      <td>FPS</td>\n",
       "    </tr>\n",
       "    <tr>\n",
       "      <th>4</th>\n",
       "      <td>full except cosmetic crap unbalanced pure garbage</td>\n",
       "      <td>False</td>\n",
       "      <td>FPS</td>\n",
       "    </tr>\n",
       "    <tr>\n",
       "      <th>...</th>\n",
       "      <td>...</td>\n",
       "      <td>...</td>\n",
       "      <td>...</td>\n",
       "    </tr>\n",
       "    <tr>\n",
       "      <th>751843</th>\n",
       "      <td>like major worked much fun opinion variety</td>\n",
       "      <td>True</td>\n",
       "      <td>Strategy</td>\n",
       "    </tr>\n",
       "    <tr>\n",
       "      <th>751845</th>\n",
       "      <td>fun game</td>\n",
       "      <td>True</td>\n",
       "      <td>Strategy</td>\n",
       "    </tr>\n",
       "    <tr>\n",
       "      <th>751846</th>\n",
       "      <td>really good new patch weve gotten new free new...</td>\n",
       "      <td>True</td>\n",
       "      <td>Strategy</td>\n",
       "    </tr>\n",
       "    <tr>\n",
       "      <th>751847</th>\n",
       "      <td>good like new better graphic</td>\n",
       "      <td>True</td>\n",
       "      <td>Strategy</td>\n",
       "    </tr>\n",
       "    <tr>\n",
       "      <th>751848</th>\n",
       "      <td>balance left game</td>\n",
       "      <td>False</td>\n",
       "      <td>Strategy</td>\n",
       "    </tr>\n",
       "  </tbody>\n",
       "</table>\n",
       "<p>670596 rows × 3 columns</p>\n",
       "</div>"
      ],
      "text/plain": [
       "                                                   Review Recommended  \\\n",
       "0                                                     spy        True   \n",
       "1                                   better overwatch game        True   \n",
       "2                                               good game        True   \n",
       "3                                             spy among u        True   \n",
       "4       full except cosmetic crap unbalanced pure garbage       False   \n",
       "...                                                   ...         ...   \n",
       "751843         like major worked much fun opinion variety        True   \n",
       "751845                                           fun game        True   \n",
       "751846  really good new patch weve gotten new free new...        True   \n",
       "751847                       good like new better graphic        True   \n",
       "751848                                  balance left game       False   \n",
       "\n",
       "           Genre  \n",
       "0            FPS  \n",
       "1            FPS  \n",
       "2            FPS  \n",
       "3            FPS  \n",
       "4            FPS  \n",
       "...          ...  \n",
       "751843  Strategy  \n",
       "751845  Strategy  \n",
       "751846  Strategy  \n",
       "751847  Strategy  \n",
       "751848  Strategy  \n",
       "\n",
       "[670596 rows x 3 columns]"
      ]
     },
     "execution_count": 29,
     "metadata": {},
     "output_type": "execute_result"
    }
   ],
   "source": [
    "reviews = reviews[reviews[\"Review\"] != \"\"]\n",
    "reviews"
   ]
  },
  {
   "cell_type": "code",
   "execution_count": 30,
   "id": "633fa10c-bf9a-4e48-9580-371bfe2747cf",
   "metadata": {
    "tags": []
   },
   "outputs": [],
   "source": [
    "reviews.to_csv(\"Cleaned_Steam_Reviews.csv\", index = False)"
   ]
  },
  {
   "cell_type": "markdown",
   "id": "cff6f133-3701-49af-b43c-a95ec54ea971",
   "metadata": {},
   "source": [
    "For the genre classification, it is also very interesting to remove words that immideately hint towards the genre, for example: \"This is the best RPG or this is what a first person shooter is all about!\". This step is used to remove these words and create a second training/test file."
   ]
  },
  {
   "cell_type": "code",
   "execution_count": 36,
   "id": "2d95dd68-68e4-45cb-941d-b2afa8d728c8",
   "metadata": {
    "tags": []
   },
   "outputs": [],
   "source": [
    "genre_words = [\"rpg\", \"role playing game\", \"overwatch\", \"role\", \"shooter\", \"shoot\", \"fps\", \"platformer\", \"coop\", \"moba\", \"fight\", \"fighter\", \"baldur\", \"dota\", \"tekken\",\n",
    "              \"fighterz\", \"ori\", \"persona\", \"helldiver\", \"skyrim\", \"ori\", \"smite\", \"payday\", \"pseudoregalia\", \"mortal\", \"kombat\", \"guilty\", \"gear\", \"brawlhalla\", \"strategy\", \"warhammer\"]"
   ]
  },
  {
   "cell_type": "code",
   "execution_count": 37,
   "id": "0d5a03ee-58e6-4e71-bfcc-2d6c7d816911",
   "metadata": {
    "tags": []
   },
   "outputs": [],
   "source": [
    "def filter_genre(Review):\n",
    "    tokens = nltk.word_tokenize(Review) # each word is going to transformed into a token, as this is necessary for the processing\n",
    "    filtered_text = [word for word in tokens if word.lower() not in genre_words]\n",
    "    return \" \".join(filtered_text)"
   ]
  },
  {
   "cell_type": "code",
   "execution_count": 38,
   "id": "69142653-b5e3-473d-ad6e-38fe015ae92b",
   "metadata": {
    "tags": []
   },
   "outputs": [
    {
     "name": "stderr",
     "output_type": "stream",
     "text": [
      "/tmp/ipykernel_3220/3346282792.py:1: SettingWithCopyWarning: \n",
      "A value is trying to be set on a copy of a slice from a DataFrame.\n",
      "Try using .loc[row_indexer,col_indexer] = value instead\n",
      "\n",
      "See the caveats in the documentation: https://pandas.pydata.org/pandas-docs/stable/user_guide/indexing.html#returning-a-view-versus-a-copy\n",
      "  reviews[\"Review\"] = reviews[\"Review\"].apply(lambda x: filter_genre(x))\n"
     ]
    },
    {
     "data": {
      "text/html": [
       "<div>\n",
       "<style scoped>\n",
       "    .dataframe tbody tr th:only-of-type {\n",
       "        vertical-align: middle;\n",
       "    }\n",
       "\n",
       "    .dataframe tbody tr th {\n",
       "        vertical-align: top;\n",
       "    }\n",
       "\n",
       "    .dataframe thead th {\n",
       "        text-align: right;\n",
       "    }\n",
       "</style>\n",
       "<table border=\"1\" class=\"dataframe\">\n",
       "  <thead>\n",
       "    <tr style=\"text-align: right;\">\n",
       "      <th></th>\n",
       "      <th>Review</th>\n",
       "      <th>Recommended</th>\n",
       "      <th>Genre</th>\n",
       "    </tr>\n",
       "  </thead>\n",
       "  <tbody>\n",
       "    <tr>\n",
       "      <th>0</th>\n",
       "      <td>spy</td>\n",
       "      <td>True</td>\n",
       "      <td>FPS</td>\n",
       "    </tr>\n",
       "    <tr>\n",
       "      <th>1</th>\n",
       "      <td>better game</td>\n",
       "      <td>True</td>\n",
       "      <td>FPS</td>\n",
       "    </tr>\n",
       "    <tr>\n",
       "      <th>2</th>\n",
       "      <td>good game</td>\n",
       "      <td>True</td>\n",
       "      <td>FPS</td>\n",
       "    </tr>\n",
       "    <tr>\n",
       "      <th>3</th>\n",
       "      <td>spy among u</td>\n",
       "      <td>True</td>\n",
       "      <td>FPS</td>\n",
       "    </tr>\n",
       "    <tr>\n",
       "      <th>4</th>\n",
       "      <td>full except cosmetic crap unbalanced pure garbage</td>\n",
       "      <td>False</td>\n",
       "      <td>FPS</td>\n",
       "    </tr>\n",
       "  </tbody>\n",
       "</table>\n",
       "</div>"
      ],
      "text/plain": [
       "                                              Review Recommended Genre\n",
       "0                                                spy        True   FPS\n",
       "1                                        better game        True   FPS\n",
       "2                                          good game        True   FPS\n",
       "3                                        spy among u        True   FPS\n",
       "4  full except cosmetic crap unbalanced pure garbage       False   FPS"
      ]
     },
     "execution_count": 38,
     "metadata": {},
     "output_type": "execute_result"
    }
   ],
   "source": [
    "reviews[\"Review\"] = reviews[\"Review\"].apply(lambda x: filter_genre(x))\n",
    "reviews.head()"
   ]
  },
  {
   "cell_type": "code",
   "execution_count": 39,
   "id": "ecb06bb0-c1ef-4f9c-9f53-8bc731e53377",
   "metadata": {
    "tags": []
   },
   "outputs": [
    {
     "data": {
      "text/html": [
       "<div>\n",
       "<style scoped>\n",
       "    .dataframe tbody tr th:only-of-type {\n",
       "        vertical-align: middle;\n",
       "    }\n",
       "\n",
       "    .dataframe tbody tr th {\n",
       "        vertical-align: top;\n",
       "    }\n",
       "\n",
       "    .dataframe thead th {\n",
       "        text-align: right;\n",
       "    }\n",
       "</style>\n",
       "<table border=\"1\" class=\"dataframe\">\n",
       "  <thead>\n",
       "    <tr style=\"text-align: right;\">\n",
       "      <th></th>\n",
       "      <th>Review</th>\n",
       "      <th>Recommended</th>\n",
       "      <th>Genre</th>\n",
       "    </tr>\n",
       "  </thead>\n",
       "  <tbody>\n",
       "    <tr>\n",
       "      <th>0</th>\n",
       "      <td>spy</td>\n",
       "      <td>True</td>\n",
       "      <td>FPS</td>\n",
       "    </tr>\n",
       "    <tr>\n",
       "      <th>1</th>\n",
       "      <td>better game</td>\n",
       "      <td>True</td>\n",
       "      <td>FPS</td>\n",
       "    </tr>\n",
       "    <tr>\n",
       "      <th>2</th>\n",
       "      <td>good game</td>\n",
       "      <td>True</td>\n",
       "      <td>FPS</td>\n",
       "    </tr>\n",
       "    <tr>\n",
       "      <th>3</th>\n",
       "      <td>spy among u</td>\n",
       "      <td>True</td>\n",
       "      <td>FPS</td>\n",
       "    </tr>\n",
       "    <tr>\n",
       "      <th>4</th>\n",
       "      <td>full except cosmetic crap unbalanced pure garbage</td>\n",
       "      <td>False</td>\n",
       "      <td>FPS</td>\n",
       "    </tr>\n",
       "    <tr>\n",
       "      <th>...</th>\n",
       "      <td>...</td>\n",
       "      <td>...</td>\n",
       "      <td>...</td>\n",
       "    </tr>\n",
       "    <tr>\n",
       "      <th>751843</th>\n",
       "      <td>like major worked much fun opinion variety</td>\n",
       "      <td>True</td>\n",
       "      <td>Strategy</td>\n",
       "    </tr>\n",
       "    <tr>\n",
       "      <th>751845</th>\n",
       "      <td>fun game</td>\n",
       "      <td>True</td>\n",
       "      <td>Strategy</td>\n",
       "    </tr>\n",
       "    <tr>\n",
       "      <th>751846</th>\n",
       "      <td>really good new patch weve gotten new free new...</td>\n",
       "      <td>True</td>\n",
       "      <td>Strategy</td>\n",
       "    </tr>\n",
       "    <tr>\n",
       "      <th>751847</th>\n",
       "      <td>good like new better graphic</td>\n",
       "      <td>True</td>\n",
       "      <td>Strategy</td>\n",
       "    </tr>\n",
       "    <tr>\n",
       "      <th>751848</th>\n",
       "      <td>balance left game</td>\n",
       "      <td>False</td>\n",
       "      <td>Strategy</td>\n",
       "    </tr>\n",
       "  </tbody>\n",
       "</table>\n",
       "<p>669545 rows × 3 columns</p>\n",
       "</div>"
      ],
      "text/plain": [
       "                                                   Review Recommended  \\\n",
       "0                                                     spy        True   \n",
       "1                                             better game        True   \n",
       "2                                               good game        True   \n",
       "3                                             spy among u        True   \n",
       "4       full except cosmetic crap unbalanced pure garbage       False   \n",
       "...                                                   ...         ...   \n",
       "751843         like major worked much fun opinion variety        True   \n",
       "751845                                           fun game        True   \n",
       "751846  really good new patch weve gotten new free new...        True   \n",
       "751847                       good like new better graphic        True   \n",
       "751848                                  balance left game       False   \n",
       "\n",
       "           Genre  \n",
       "0            FPS  \n",
       "1            FPS  \n",
       "2            FPS  \n",
       "3            FPS  \n",
       "4            FPS  \n",
       "...          ...  \n",
       "751843  Strategy  \n",
       "751845  Strategy  \n",
       "751846  Strategy  \n",
       "751847  Strategy  \n",
       "751848  Strategy  \n",
       "\n",
       "[669545 rows x 3 columns]"
      ]
     },
     "execution_count": 39,
     "metadata": {},
     "output_type": "execute_result"
    }
   ],
   "source": [
    "reviews = reviews[reviews[\"Review\"] != \"\"]\n",
    "reviews"
   ]
  },
  {
   "cell_type": "code",
   "execution_count": 40,
   "id": "64c4addc-e169-439d-a57c-b112ade8ba8f",
   "metadata": {
    "tags": []
   },
   "outputs": [],
   "source": [
    "reviews.to_csv(\"Cleaned_Steam_Reviews_without_Genre.csv\", index = False)"
   ]
  }
 ],
 "metadata": {
  "kernelspec": {
   "display_name": "Python 3 (ipykernel)",
   "language": "python",
   "name": "python3"
  },
  "language_info": {
   "codemirror_mode": {
    "name": "ipython",
    "version": 3
   },
   "file_extension": ".py",
   "mimetype": "text/x-python",
   "name": "python",
   "nbconvert_exporter": "python",
   "pygments_lexer": "ipython3",
   "version": "3.8.10"
  }
 },
 "nbformat": 4,
 "nbformat_minor": 5
}
